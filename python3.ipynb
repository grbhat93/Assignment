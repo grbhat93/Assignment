{
 "cells": [
  {
   "cell_type": "code",
   "execution_count": 3,
   "metadata": {},
   "outputs": [
    {
     "data": {
      "text/plain": [
       "['x', 'xx', 'xxx', 'xxxx', 'y', 'yy', 'yyy', 'yyyy', 'z', 'zz', 'zzz', 'zzzz']"
      ]
     },
     "execution_count": 3,
     "metadata": {},
     "output_type": "execute_result"
    }
   ],
   "source": [
    "#Q2#Output : ['x', 'xx', 'xxx', 'xxxx', 'y', 'yy', 'yyy', 'yyyy', 'z', 'zz', 'zzz', 'zzzz'] \n",
    "\n",
    "[i*j for i in ['x','y','z'] for j in range(1,5)]"
   ]
  },
  {
   "cell_type": "code",
   "execution_count": 5,
   "metadata": {},
   "outputs": [
    {
     "data": {
      "text/plain": [
       "['x', 'y', 'z', 'xx', 'yy', 'zz', 'xxx', 'yyy', 'zzz', 'xxxx', 'yyyy', 'zzzz']"
      ]
     },
     "execution_count": 5,
     "metadata": {},
     "output_type": "execute_result"
    }
   ],
   "source": [
    "#Q2#Output:['x', 'y', 'z', 'xx', 'yy', 'zz', 'xxx', 'yyy', 'zzz', 'xxxx', 'yyyy', 'zzzz'] \n",
    "[j*i for i in [1,2,3,4] for j in ['x','y','z']] "
   ]
  },
  {
   "cell_type": "code",
   "execution_count": 6,
   "metadata": {},
   "outputs": [
    {
     "data": {
      "text/plain": [
       "[(1, 1), (2, 1), (3, 1), (1, 2), (2, 2), (3, 2), (1, 3), (2, 3), (3, 3)]"
      ]
     },
     "execution_count": 6,
     "metadata": {},
     "output_type": "execute_result"
    }
   ],
   "source": [
    "#Q2#Output:[(1, 1), (2, 1), (3, 1), (1, 2), (2, 2), (3, 2), (1, 3), (2, 3), (3, 3)]\n",
    "\n",
    "a=[1,2,3]\n",
    "\n",
    "[(j,i) for i in a for j in a]"
   ]
  },
  {
   "cell_type": "code",
   "execution_count": 11,
   "metadata": {},
   "outputs": [
    {
     "name": "stdout",
     "output_type": "stream",
     "text": [
      "[[2], [3], [4], [3], [4], [5], [4], [5], [6]]\n",
      "[[2, 3, 4, 5], [3, 4, 5, 6], [4, 5, 6, 7], [5, 6, 7, 8]]\n"
     ]
    }
   ],
   "source": [
    "#Q2#Output: [[2], [3], [4], [3], [4], [5], [4], [5], [6]] \n",
    "#[[2, 3, 4, 5], [3, 4, 5, 6],[4, 5, 6, 7], [5, 6, 7, 8]]\n",
    "\n",
    "lst2=[[i+j for i in [0,1,2,3]] for j in range(2,6)]\n",
    "lst1=[[i+j] for i in range(2,5) for j in [0,1,2]]\n",
    "print(lst1)\n",
    "print(lst2)"
   ]
  },
  {
   "cell_type": "code",
   "execution_count": 22,
   "metadata": {},
   "outputs": [
    {
     "name": "stdout",
     "output_type": "stream",
     "text": [
      "Output:\n",
      "Sum of List elements are : 15\n"
     ]
    }
   ],
   "source": [
    "#1.1 Write a Python Program to implement your own myreduce() function which works exactly\n",
    "#like Python's built-in function reduce()\n",
    "\n",
    "def myreduce(num):\n",
    "    # will return sum of the given list\n",
    "    num_list=list(range(1,num+1))\n",
    "    sum_of_elements=0\n",
    "    \n",
    "    for i in num_list:\n",
    "        sum_of_elements+=i        \n",
    "    return sum_of_elements\n",
    "\n",
    "#Function Execution\n",
    "output_value=myreduce(5)\n",
    "\n",
    "#Output\n",
    "print(\"Output:\")\n",
    "print(\"Sum of List elements are :\",output_value)\n"
   ]
  },
  {
   "cell_type": "code",
   "execution_count": 25,
   "metadata": {},
   "outputs": [
    {
     "name": "stdout",
     "output_type": "stream",
     "text": [
      "List of Even numbers are: [34, 56, 0, 44, 22, 222]\n"
     ]
    }
   ],
   "source": [
    "#1.2 Write a Python program to implement your own myfilter() function which works exactly\n",
    "#like Python's built-in function filter()\n",
    "\n",
    "# Solution\n",
    "# Filter the even number\n",
    "\n",
    "#Input  \n",
    "num_list=[34,89,87,56,145,877,0,775,44,22,222]\n",
    "\n",
    "def myfilter(num_list):\n",
    "    #This function will filter even no\n",
    "    num_even_list=[]\n",
    "    for i in num_list:\n",
    "        if(i%2==0):\n",
    "            num_even_list.append(i)\n",
    "    return num_even_list\n",
    "\n",
    "\n",
    "#Function Execution\n",
    "output_value=myfilter(num_list)\n",
    "\n",
    "#Output \n",
    "print(\"List of Even numbers are:\",output_value)\n",
    "\n"
   ]
  },
  {
   "cell_type": "code",
   "execution_count": null,
   "metadata": {},
   "outputs": [],
   "source": []
  }
 ],
 "metadata": {
  "kernelspec": {
   "display_name": "Python 3",
   "language": "python",
   "name": "python3"
  },
  "language_info": {
   "codemirror_mode": {
    "name": "ipython",
    "version": 3
   },
   "file_extension": ".py",
   "mimetype": "text/x-python",
   "name": "python",
   "nbconvert_exporter": "python",
   "pygments_lexer": "ipython3",
   "version": "3.7.4"
  }
 },
 "nbformat": 4,
 "nbformat_minor": 2
}
